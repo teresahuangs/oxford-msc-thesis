{
 "cells": [
  {
   "cell_type": "code",
   "execution_count": null,
   "metadata": {
    "vscode": {
     "languageId": "plaintext"
    }
   },
   "outputs": [],
   "source": [
    "from src.parser import load_yaml_dir\n",
    "from src.checker import check_project\n",
    "from src.graph import build_dependency_graph\n",
    "import networkx as nx\n",
    "import matplotlib.pyplot as plt\n",
    "\n",
    "licenses = load_yaml_dir(\"data/licenses\")\n",
    "projects = load_yaml_dir(\"data/examples\")\n",
    "\n",
    "proj = projects[\"huggingface-textgen\"]\n",
    "violations = check_project(proj, licenses)\n",
    "print(\"Violations:\", violations)\n",
    "\n",
    "G = build_dependency_graph(proj)\n",
    "nx.draw(G, with_labels=True)\n",
    "plt.show()\n"
   ]
  }
 ],
 "metadata": {
  "language_info": {
   "name": "python"
  }
 },
 "nbformat": 4,
 "nbformat_minor": 2
}
